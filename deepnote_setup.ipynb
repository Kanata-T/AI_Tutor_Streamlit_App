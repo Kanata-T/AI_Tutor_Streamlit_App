{
  "cells": [
    {
      "cell_type": "code",
      "execution_count": null,
      "metadata": {
        "vscode": {
          "languageId": "plaintext"
        }
      },
      "outputs": [],
      "source": [
        "# 🚀 AI Tutor Streamlit App - Deepnote セットアップ\n",
        "\n",
        "このNotebookを実行すると、GitHubから最新のコードを自動取得し、Streamlitアプリを起動できます。\n",
        "\n",
        "## 📋 実行手順\n",
        "1. **環境変数設定**: Settings > Environment variables で `GEMINI_API_KEY` を設定\n",
        "2. **セルを順番に実行**: 上から順番にセルを実行してください\n",
        "3. **アプリ起動**: 最後のセルでStreamlitアプリが起動します\n"
      ]
    },
    {
      "cell_type": "code",
      "execution_count": null,
      "metadata": {
        "vscode": {
          "languageId": "plaintext"
        }
      },
      "outputs": [],
      "source": [
        "## 🔧 初期設定・最新コード取得\n"
      ]
    },
    {
      "cell_type": "code",
      "execution_count": null,
      "metadata": {},
      "outputs": [],
      "source": [
        "import os\n",
        "import subprocess\n",
        "import sys\n",
        "from pathlib import Path\n",
        "\n",
        "def run_command(command, cwd=None, show_output=True):\n",
        "    \"\"\"コマンドを実行し、結果を表示\"\"\"\n",
        "    try:\n",
        "        result = subprocess.run(\n",
        "            command, \n",
        "            shell=True, \n",
        "            cwd=cwd,\n",
        "            capture_output=True, \n",
        "            text=True, \n",
        "            check=True\n",
        "        )\n",
        "        if show_output:\n",
        "            print(f\"✅ 成功: {command}\")\n",
        "            if result.stdout.strip():\n",
        "                print(result.stdout)\n",
        "        return True, result.stdout\n",
        "    except subprocess.CalledProcessError as e:\n",
        "        print(f\"❌ エラー: {command}\")\n",
        "        print(f\"エラー内容: {e.stderr}\")\n",
        "        return False, e.stderr\n",
        "\n",
        "def create_env_file(project_dir, api_key):\n",
        "    \"\"\"環境変数ファイルを作成\"\"\"\n",
        "    env_content = f\"\"\"# AI Tutor Streamlit App - 環境変数設定ファイル\n",
        "# 自動生成されたファイルです\n",
        "\n",
        "# Gemini API Key (必須)\n",
        "GEMINI_API_KEY=\"{api_key}\"\n",
        "\n",
        "# その他の設定（オプション）\n",
        "# DEBUG=True\n",
        "# LOG_LEVEL=INFO\n",
        "\"\"\"\n",
        "    \n",
        "    env_path = os.path.join(project_dir, '.env')\n",
        "    try:\n",
        "        with open(env_path, 'w', encoding='utf-8') as f:\n",
        "            f.write(env_content)\n",
        "        print(f\"✅ .envファイルを作成: {env_path}\")\n",
        "        return True\n",
        "    except Exception as e:\n",
        "        print(f\"❌ .envファイルの作成に失敗: {e}\")\n",
        "        return False\n",
        "\n",
        "print(\"🚀 AI Tutor Streamlit App - セットアップ開始\")\n",
        "print(\"=\" * 50)\n"
      ]
    },
    {
      "cell_type": "code",
      "execution_count": null,
      "metadata": {},
      "outputs": [],
      "source": [
        "# 作業ディレクトリの設定\n",
        "work_dir = \"/work\"\n",
        "repo_url = \"https://github.com/Kanata-T/AI_Tutor_Streamlit_App.git\"\n",
        "project_dir = f\"{work_dir}/ai-tutor-app\"\n",
        "\n",
        "print(f\"📂 作業ディレクトリ: {work_dir}\")\n",
        "print(f\"📦 リポジトリURL: {repo_url}\")\n",
        "print(f\"📁 プロジェクトディレクトリ: {project_dir}\")\n"
      ]
    },
    {
      "cell_type": "code",
      "execution_count": null,
      "metadata": {},
      "outputs": [],
      "source": [
        "# 既存のプロジェクトディレクトリを削除（完全にクリーンな状態にする）\n",
        "if os.path.exists(project_dir):\n",
        "    print(f\"📁 既存のプロジェクトディレクトリを削除: {project_dir}\")\n",
        "    success, _ = run_command(f\"rm -rf {project_dir}\")\n",
        "    if success:\n",
        "        print(\"✅ 既存ディレクトリの削除完了\")\n",
        "else:\n",
        "    print(\"📁 既存のプロジェクトディレクトリは存在しません\")\n"
      ]
    },
    {
      "cell_type": "code",
      "execution_count": null,
      "metadata": {},
      "outputs": [],
      "source": [
        "# 最新のコードをクローン\n",
        "print(f\"📥 最新のコードをクローン中...\")\n",
        "success, output = run_command(f\"git clone {repo_url} {project_dir}\")\n",
        "\n",
        "if success:\n",
        "    print(\"✅ クローン成功！\")\n",
        "    # プロジェクトディレクトリに移動\n",
        "    os.chdir(project_dir)\n",
        "    print(f\"📂 作業ディレクトリを変更: {os.getcwd()}\")\n",
        "else:\n",
        "    print(\"❌ クローンに失敗しました\")\n",
        "    raise Exception(\"クローンに失敗しました\")\n"
      ]
    },
    {
      "cell_type": "code",
      "execution_count": null,
      "metadata": {},
      "outputs": [],
      "source": [
        "## 📦 依存関係のインストール\n"
      ]
    },
    {
      "cell_type": "code",
      "execution_count": null,
      "metadata": {},
      "outputs": [
        {
          "ename": "",
          "evalue": "",
          "output_type": "error",
          "traceback": [
            "\u001b[1;31mRunning cells with '.venv (Python 3.13.3)' requires the ipykernel package.\n",
            "\u001b[1;31mRun the following command to install 'ipykernel' into the Python environment. \n",
            "\u001b[1;31mCommand: 'c:/Users/btxka/Documents/ai-tutor-streamlit-prototype/.venv/Scripts/python.exe -m pip install ipykernel -U --force-reinstall'"
          ]
        }
      ],
      "source": [
        "# 依存関係のインストール\n",
        "print(\"📦 依存関係をインストール中...\")\n",
        "success, output = run_command(\"pip install -r requirements.txt\")\n",
        "\n",
        "if success:\n",
        "    print(\"✅ 依存関係のインストール完了\")\n",
        "else:\n",
        "    print(\"⚠️ 依存関係のインストールに問題がありました\")\n",
        "    print(\"続行しますが、一部の機能が動作しない可能性があります\")\n"
      ]
    },
    {
      "cell_type": "code",
      "execution_count": null,
      "metadata": {},
      "outputs": [],
      "source": [
        "## 🔑 環境変数の確認\n"
      ]
    },
    {
      "cell_type": "code",
      "execution_count": null,
      "metadata": {},
      "outputs": [],
      "source": [
        "# 環境変数の設定と確認\n",
        "print(\"🔑 環境変数の設定...\")\n",
        "\n",
        "# GEMINI_API_KEYを入力で取得\n",
        "gemini_api_key = input(\"GEMINI_API_KEYを入力してください: \").strip()\n",
        "\n",
        "if gemini_api_key:\n",
        "    # .envファイルを作成\n",
        "    if create_env_file(os.getcwd(), gemini_api_key):\n",
        "        # python-dotenvで環境変数をロード\n",
        "        try:\n",
        "            from dotenv import load_dotenv\n",
        "            load_dotenv()\n",
        "            \n",
        "            # 環境変数の確認\n",
        "            loaded_key = os.getenv('GEMINI_API_KEY')\n",
        "            if loaded_key:\n",
        "                print(\"✅ GEMINI_API_KEY が正常に設定されました\")\n",
        "                print(f\"   キーの先頭: {loaded_key[:10]}...\")\n",
        "            else:\n",
        "                print(\"⚠️ 環境変数の読み込みに失敗しました\")\n",
        "        except ImportError:\n",
        "            print(\"⚠️ python-dotenvがインストールされていません\")\n",
        "            print(\"   依存関係のインストールを先に実行してください\")\n",
        "else:\n",
        "    print(\"❌ GEMINI_API_KEYが入力されませんでした\")\n",
        "    print(\"   このセルを再実行してAPIキーを入力してください\")\n"
      ]
    },
    {
      "cell_type": "code",
      "execution_count": null,
      "metadata": {},
      "outputs": [],
      "source": [
        "## 📁 プロジェクト構造の確認\n"
      ]
    },
    {
      "cell_type": "code",
      "execution_count": null,
      "metadata": {},
      "outputs": [],
      "source": [
        "# プロジェクト構造の確認\n",
        "print(\"📁 プロジェクト構造:\")\n",
        "success, output = run_command(\"find . -type f -name '*.py' | head -20\", show_output=False)\n",
        "if success:\n",
        "    files = output.strip().split('\\n')\n",
        "    for file in files[:15]:  # 最初の15ファイルのみ表示\n",
        "        print(f\"   {file}\")\n",
        "    if len(files) > 15:\n",
        "        print(f\"   ... その他 {len(files) - 15} ファイル\")\n",
        "\n",
        "print(\"\\n📂 ディレクトリ構造:\")\n",
        "success, output = run_command(\"find . -type d -name '.*' -prune -o -type d -print | head -10\", show_output=False)\n",
        "if success:\n",
        "    dirs = output.strip().split('\\n')\n",
        "    for dir in dirs:\n",
        "        if dir.strip():\n",
        "            print(f\"   {dir}\")\n"
      ]
    },
    {
      "cell_type": "code",
      "execution_count": null,
      "metadata": {},
      "outputs": [],
      "source": [
        "## 🚀 Streamlit アプリの起動\n",
        "\n",
        "**注意**: 以下のセルを実行すると、Streamlitアプリが起動します。\n",
        "- アプリは新しいタブで開きます\n",
        "- 停止するには、セルの実行を中断してください（■ボタン）\n"
      ]
    },
    {
      "cell_type": "code",
      "execution_count": null,
      "metadata": {},
      "outputs": [],
      "source": [
        "print(\"=\" * 50)\n",
        "print(\"🎉 セットアップ完了！\")\n",
        "print(f\"📍 プロジェクトディレクトリ: {os.getcwd()}\")\n",
        "print(\"🚀 Streamlitアプリを起動します...\")\n",
        "print(\"=\" * 50)\n",
        "\n",
        "# Streamlitアプリの起動\n",
        "# 注意: このセルは実行し続けます。停止するには中断ボタンを押してください\n",
        "os.system(\"streamlit run app.py --server.port 8501 --server.address 0.0.0.0\")\n"
      ]
    },
    {
      "cell_type": "raw",
      "metadata": {
        "vscode": {
          "languageId": "raw"
        }
      },
      "source": [
        "## 🔄 高速更新（2回目以降用）\n",
        "\n",
        "既にプロジェクトがセットアップされている場合、以下のセルで高速更新できます：\n"
      ]
    },
    {
      "cell_type": "code",
      "execution_count": null,
      "metadata": {},
      "outputs": [],
      "source": [
        "# 高速更新用セル（2回目以降）\n",
        "def quick_update():\n",
        "    project_dir = \"/work/ai-tutor-app\"\n",
        "    \n",
        "    if not os.path.exists(project_dir):\n",
        "        print(\"❌ プロジェクトディレクトリが見つかりません\")\n",
        "        print(\"🚀 上記のセルから完全セットアップを実行してください\")\n",
        "        return False\n",
        "    \n",
        "    os.chdir(project_dir)\n",
        "    print(f\"📂 作業ディレクトリ: {os.getcwd()}\")\n",
        "    \n",
        "    print(\"🔄 ローカルの変更をリセット中...\")\n",
        "    run_command(\"git reset --hard HEAD\")\n",
        "    run_command(\"git clean -fd\")\n",
        "    \n",
        "    print(\"📥 最新のコードを取得中...\")\n",
        "    success, _ = run_command(\"git pull origin main\")\n",
        "    \n",
        "    if success:\n",
        "        print(\"✅ 最新のコードに更新されました\")\n",
        "        print(\"📦 依存関係を更新中...\")\n",
        "        run_command(\"pip install -r requirements.txt --upgrade\")\n",
        "        \n",
        "        # .envファイルの確認\n",
        "        env_path = os.path.join(os.getcwd(), '.env')\n",
        "        if os.path.exists(env_path):\n",
        "            print(\"✅ .envファイルが存在します\")\n",
        "            # 環境変数を再読み込み\n",
        "            try:\n",
        "                from dotenv import load_dotenv\n",
        "                load_dotenv(override=True)\n",
        "                print(\"✅ 環境変数を再読み込みしました\")\n",
        "            except ImportError:\n",
        "                print(\"⚠️ python-dotenvがインストールされていません\")\n",
        "        else:\n",
        "            print(\"⚠️ .envファイルが見つかりません\")\n",
        "            print(\"   環境変数設定セルを再実行してください\")\n",
        "        \n",
        "        print(\"🎉 高速更新完了！\")\n",
        "        return True\n",
        "    else:\n",
        "        print(\"❌ 更新に失敗しました\")\n",
        "        return False\n",
        "\n",
        "# 高速更新を実行（コメントアウトを外して実行）\n",
        "# quick_update()\n"
      ]
    },
    {
      "cell_type": "raw",
      "metadata": {
        "vscode": {
          "languageId": "raw"
        }
      },
      "source": [
        "## 📝 使用方法まとめ\n",
        "\n",
        "### 🆕 初回セットアップ\n",
        "1. 上から順番にセルを実行\n",
        "2. 環境変数設定セルでGEMINI_API_KEYを入力\n",
        "3. 最後のセルでStreamlitアプリが起動\n",
        "\n",
        "### 🔄 2回目以降（高速更新）\n",
        "1. 「高速更新」セルのコメントアウトを外して実行\n",
        "2. Streamlit起動セルを実行\n",
        "\n",
        "### 🛑 アプリの停止\n",
        "- Streamlit実行セルの中断ボタン（■）をクリック\n",
        "\n",
        "### 🔧 トラブルシューティング\n",
        "- GEMINI_API_KEYエラー → 環境変数設定セルを再実行\n",
        "- 依存関係エラー → 完全セットアップを再実行\n",
        "- .envファイルエラー → プロジェクトディレクトリで手動作成\n",
        "- その他のエラー → プロジェクトディレクトリを削除して完全セットアップを再実行\n",
        "\n",
        "### 💡 環境構築について\n",
        "- **requirements.txt使用**: Deepnoteでの確実な動作を優先\n",
        "- **uv対応**: ローカル開発では`uv sync`で高速インストール可能\n",
        "- **.env管理**: APIキーを安全に管理、Gitにはコミットされません\n"
      ]
    }
  ],
  "metadata": {
    "kernelspec": {
      "display_name": ".venv",
      "language": "python",
      "name": "python3"
    },
    "language_info": {
      "name": "python",
      "version": "3.13.3"
    }
  },
  "nbformat": 4,
  "nbformat_minor": 2
}
